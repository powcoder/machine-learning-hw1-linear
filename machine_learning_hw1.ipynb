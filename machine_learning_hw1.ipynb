{
 "cells": [
  {
   "cell_type": "code",
   "execution_count": 4,
   "metadata": {
    "collapsed": true
   },
   "outputs": [],
   "source": [
    "# import statements\n",
    "datapath = 'datasets/'\n",
    "from autograd import numpy as np"
   ]
  },
  {
   "cell_type": "markdown",
   "metadata": {},
   "source": [
    "## A gradient descent and cost function history plotting function "
   ]
  },
  {
   "cell_type": "code",
   "execution_count": 5,
   "metadata": {
    "collapsed": true
   },
   "outputs": [],
   "source": [
    "# import automatic differentiator to compute gradient module\n",
    "from autograd import grad \n",
    "\n",
    "# gradient descent function \n",
    "def gradient_descent(g,alpha,max_its,w):\n",
    "    # compute gradient module using autograd\n",
    "    gradient = grad(g)\n",
    "\n",
    "    # run the gradient descent loop\n",
    "    weight_history = [w] # weight history container\n",
    "    cost_history = [g(w)] # cost function history container\n",
    "    for k in range(max_its):\n",
    "        # evaluate the gradient\n",
    "        grad_eval = gradient(w)\n",
    "\n",
    "        # take gradient descent step\n",
    "        w = w - alpha*grad_eval\n",
    "        \n",
    "        # record weight and cost\n",
    "        weight_history.append(w)\n",
    "        cost_history.append(g(w))\n",
    "    return weight_history,cost_history"
   ]
  },
  {
   "cell_type": "code",
   "execution_count": 6,
   "metadata": {
    "collapsed": true
   },
   "outputs": [],
   "source": [
    "# the import statement for matplotlib\n",
    "import matplotlib.pyplot as plt\n",
    "\n",
    "# cost function history plotter\n",
    "def plot_cost_histories(cost_histories,labels):\n",
    "    # create figure\n",
    "    plt.figure()\n",
    "    \n",
    "    # loop over cost histories and plot each one\n",
    "    for j in range(len(cost_histories)):\n",
    "        history = cost_histories[j]\n",
    "        label = labels[j]\n",
    "        plt.plot(history,label = label)\n",
    "    plt.legend(loc='center left', bbox_to_anchor=(1, 0.5))\n",
    "    plt.show()"
   ]
  },
  {
   "cell_type": "markdown",
   "metadata": {},
   "source": [
    "# Chapter 5 Exercises"
   ]
  },
  {
   "cell_type": "markdown",
   "metadata": {},
   "source": [
    "Complete exercises 2, 6, and 7 from Chapter 5 - make sure to download the most recent version of the text.  Below we load in each dataset."
   ]
  },
  {
   "cell_type": "markdown",
   "metadata": {},
   "source": [
    "## Exercise 2"
   ]
  },
  {
   "cell_type": "code",
   "execution_count": 7,
   "metadata": {
    "collapsed": true
   },
   "outputs": [],
   "source": [
    "# load in dataset\n",
    "csvname = datapath + 'kleibers_law_data.csv'\n",
    "data = np.loadtxt(csvname,delimiter=',')\n",
    "\n",
    "# get input and output of dataset\n",
    "x = data[:-1,:]\n",
    "y = data[-1:,:] "
   ]
  },
  {
   "cell_type": "markdown",
   "metadata": {},
   "source": [
    "## Exercise 6"
   ]
  },
  {
   "cell_type": "code",
   "execution_count": 8,
   "metadata": {
    "collapsed": true
   },
   "outputs": [],
   "source": [
    "# load in dataset\n",
    "csvname = datapath + 'regression_outliers.csv'\n",
    "data = np.loadtxt(csvname,delimiter = ',')\n",
    "\n",
    "# get input and output of dataset\n",
    "x = data[:-1,:]\n",
    "y = data[-1:,:] "
   ]
  },
  {
   "cell_type": "markdown",
   "metadata": {},
   "source": [
    "## Exercise 7"
   ]
  },
  {
   "cell_type": "code",
   "execution_count": 9,
   "metadata": {
    "collapsed": true
   },
   "outputs": [],
   "source": [
    "# load in dataset\n",
    "csvname = datapath + 'linear_2output_regression.csv'\n",
    "data = np.loadtxt(csvname,delimiter=',')\n",
    "\n",
    "# get input and output of dataset\n",
    "x = data[:2,:]\n",
    "y = data[2:,:]"
   ]
  },
  {
   "cell_type": "markdown",
   "metadata": {},
   "source": [
    "# Chapter 6"
   ]
  },
  {
   "cell_type": "markdown",
   "metadata": {},
   "source": [
    "Complete exercises 7, 8, 9, and 14 from Chapter 6 - make sure to download the most recent version of the text.  Below we load in each dataset."
   ]
  },
  {
   "cell_type": "markdown",
   "metadata": {},
   "source": [
    "## Exercise 7"
   ]
  },
  {
   "cell_type": "code",
   "execution_count": 10,
   "metadata": {
    "collapsed": true
   },
   "outputs": [],
   "source": [
    "# load in dataset\n",
    "csvname = datapath + '2d_classification_data_v1.csv'\n",
    "data = np.loadtxt(csvname,delimiter = ',')\n",
    "\n",
    "# get input and output of dataset\n",
    "x = data[:-1,:]\n",
    "y = data[-1:,:] "
   ]
  },
  {
   "cell_type": "markdown",
   "metadata": {},
   "source": [
    "## Exercise 8"
   ]
  },
  {
   "cell_type": "code",
   "execution_count": 11,
   "metadata": {
    "collapsed": true
   },
   "outputs": [],
   "source": [
    "# load in dataset\n",
    "csvname = datapath + '3d_classification_data_v0.csv'\n",
    "data = np.loadtxt(csvname,delimiter = ',')\n",
    "\n",
    "# get input and output of dataset\n",
    "x = data[:-1,:]\n",
    "y = data[-1:,:] "
   ]
  },
  {
   "cell_type": "markdown",
   "metadata": {},
   "source": [
    "## Exercise 9"
   ]
  },
  {
   "cell_type": "code",
   "execution_count": 12,
   "metadata": {
    "collapsed": true
   },
   "outputs": [],
   "source": [
    "# load in dataset\n",
    "csvname = datapath + '3d_classification_data_v0.csv'\n",
    "data = np.loadtxt(csvname,delimiter = ',')\n",
    "\n",
    "# get input and output of dataset\n",
    "x = data[:-1,:]\n",
    "y = data[-1:,:] "
   ]
  },
  {
   "cell_type": "markdown",
   "metadata": {},
   "source": [
    "## Exercise 14"
   ]
  },
  {
   "cell_type": "code",
   "execution_count": 13,
   "metadata": {
    "collapsed": true
   },
   "outputs": [],
   "source": [
    "# load in dataset\n",
    "csvname = datapath + 'breast_cancer_data.csv'\n",
    "data1 = np.loadtxt(csvname,delimiter = ',')\n",
    "\n",
    "# get input and output of dataset\n",
    "x = data1[:-1,:]\n",
    "y = data1[-1:,:] "
   ]
  }
 ],
 "metadata": {
  "kernelspec": {
   "display_name": "Python 3",
   "language": "python",
   "name": "python3"
  },
  "language_info": {
   "codemirror_mode": {
    "name": "ipython",
    "version": 3
   },
   "file_extension": ".py",
   "mimetype": "text/x-python",
   "name": "python",
   "nbconvert_exporter": "python",
   "pygments_lexer": "ipython3",
   "version": "3.5.3"
  }
 },
 "nbformat": 4,
 "nbformat_minor": 2
}
